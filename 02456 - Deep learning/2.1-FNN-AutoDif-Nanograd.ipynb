{
 "cells": [
  {
   "cell_type": "markdown",
   "metadata": {
    "id": "HAva8TnYFtFu"
   },
   "source": [
    "# Contents and why we need this lab\n",
    "\n",
    "This lab is about implementing neural networks yourself before we start using other frameworks which hide some of the computation from you. It builds on the first lab where you derived the equations for neural network forward and backward propagation and gradient descent parameter updates. \n",
    "\n",
    "All the frameworks for deep learning you will meet from now on uses automatic differentiation (autodiff) so you don't have to code the backward step yourself. In this version of this lab you will develop your own autodif implementation. We also have a [version](https://github.com/DeepLearningDTU/02456-deep-learning-with-PyTorch/blob/master/2_Feedforward_NumPy/2.1-FNN-NumPy.ipynb) of this lab where you have to code the backward pass explicitly in Numpy."
   ]
  },
  {
   "cell_type": "markdown",
   "metadata": {
    "id": "sCa7HzwpFtFy"
   },
   "source": [
    "# External sources of information\n",
    "\n",
    "1. Jupyter notebook. You can find more information about Jupyter notebooks [here](https://jupyter.org/). It will come as part of the [Anaconda](https://www.anaconda.com/) Python installation. \n",
    "2. [NumPy](https://numpy.org/). Part of Anaconda distribution. If you already know how to program most things about Python and NumPy can be found through Google search.\n",
    "3. [Nanograd](https://github.com/rasmusbergpalm/nanograd) is a minimalistic version of autodiff developed by Rasmus Berg Palm that we use for our framework.\n"
   ]
  },
  {
   "cell_type": "markdown",
   "metadata": {
    "id": "1SjiIp-TFtF0"
   },
   "source": [
    "# This notebook will follow the next steps:\n",
    "\n",
    "1. Nanograd automatic differentiation framework\n",
    "2. Finite difference method\n",
    "3. Data generation\n",
    "4. Defining and initializing the network\n",
    "5. Forward pass\n",
    "6. Training loop \n",
    "7. Testing your model\n",
    "8. Further extensions"
   ]
  },
  {
   "cell_type": "markdown",
   "metadata": {
    "id": "OyXeAA-HuT7s"
   },
   "source": [
    "# Nanograd automatic differention framework"
   ]
  },
  {
   "cell_type": "markdown",
   "metadata": {
    "id": "k6UWKCLKubgA"
   },
   "source": [
    "The [Nanograd](https://github.com/rasmusbergpalm/nanograd) framework defines a class Var which both holds a value and gradient value that we can use to store the intermediate values when we apply the chain rule of differentiation."
   ]
  },
  {
   "cell_type": "code",
   "execution_count": 1,
   "metadata": {
    "id": "Jd4CoEBNzNWS"
   },
   "outputs": [],
   "source": [
    "# Copy and pasted from https://github.com/rasmusbergpalm/nanograd/blob/main/nanograd.py\n",
    "\n",
    "from math import exp, log, tanh\n",
    "\n",
    "def sigmoid(x):\n",
    "    return (1/(1.0+exp(-x)))\n",
    "\n",
    "class Var:\n",
    "    \"\"\"\n",
    "    A variable which holds a float and enables gradient computations.\n",
    "    \"\"\"\n",
    "\n",
    "    def __init__(self, val: float, grad_fn=lambda: []):\n",
    "        assert type(val) == float\n",
    "        self.v = val\n",
    "        self.grad_fn = grad_fn\n",
    "        self.grad = 0.0\n",
    "\n",
    "    def backprop(self, bp):\n",
    "        self.grad += bp\n",
    "        for input, grad in self.grad_fn():\n",
    "            input.backprop(grad * bp)\n",
    "\n",
    "    def backward(self):\n",
    "        self.backprop(1.0)\n",
    "\n",
    "    def __add__(self: 'Var', other: 'Var') -> 'Var':\n",
    "        return Var(self.v + other.v, lambda: [(self, 1.0), (other, 1.0)])\n",
    "\n",
    "    def __mul__(self: 'Var', other: 'Var') -> 'Var':\n",
    "        return Var(self.v * other.v, lambda: [(self, other.v), (other, self.v)])\n",
    "\n",
    "    def __pow__(self, power):\n",
    "        assert type(power) in {float, int}, \"power must be float or int\"\n",
    "        return Var(self.v ** power, lambda: [(self, power * self.v ** (power - 1))])\n",
    "\n",
    "    def __neg__(self: 'Var') -> 'Var':\n",
    "        return Var(-1.0) * self\n",
    "\n",
    "    def __sub__(self: 'Var', other: 'Var') -> 'Var':\n",
    "        return self + (-other)\n",
    "\n",
    "    def __truediv__(self: 'Var', other: 'Var') -> 'Var':\n",
    "        return self * other ** -1\n",
    "\n",
    "    def __repr__(self):\n",
    "        return \"Var(v=%.4f, grad=%.4f)\" % (self.v, self.grad)\n",
    "\n",
    "    def relu(self):\n",
    "        return Var(self.v if self.v > 0.0 else 0.0, lambda: [(self, 1.0 if self.v > 0.0 else 0.0)])\n",
    "    \n",
    "    def identity(self): # <- remove before distribution\n",
    "        return self\n",
    "    \n",
    "    def tanh(self):\n",
    "        return Var(tanh(self.v), lambda: [(self, 1-tanh(self.v)**2)])\n",
    "    \n",
    "    def sigmoid(self):\n",
    "        return Var(sigmoid(self.v), lambda: [( self, sigmoid(self.v)*(1-sigmoid(self.v)) )])\n",
    "    \n",
    "    def exp(self):\n",
    "        return Var(exp(self.v), lambda: [(self, exp(self.v))])\n",
    "\n",
    "    def log(self):\n",
    "        return Var(log(self.v), lambda: [(self, self.v**(-1))])"
   ]
  },
  {
   "cell_type": "markdown",
   "metadata": {
    "id": "yDX67D6jzcte"
   },
   "source": [
    "A few examples illustrate how we can use this:"
   ]
  },
  {
   "cell_type": "code",
   "execution_count": 2,
   "metadata": {
    "colab": {
     "base_uri": "https://localhost:8080/"
    },
    "id": "xk6PeLc3zwPT",
    "outputId": "1e8c6d68-749a-44c3-8fce-0029dcc3215b"
   },
   "outputs": [
    {
     "name": "stdout",
     "output_type": "stream",
     "text": [
      "Var(v=3.0000, grad=5.0000)\n",
      "Var(v=5.0000, grad=3.0000)\n",
      "Var(v=15.0000, grad=1.0000)\n"
     ]
    }
   ],
   "source": [
    "a = Var(3.0)\n",
    "b = Var(5.0)\n",
    "f = a * b\n",
    "\n",
    "f.backward()\n",
    "\n",
    "for v in [a, b, f]:\n",
    "    print(v)"
   ]
  },
  {
   "cell_type": "code",
   "execution_count": 3,
   "metadata": {
    "colab": {
     "base_uri": "https://localhost:8080/"
    },
    "id": "JmKhYgsY0g_o",
    "outputId": "d86771b7-4166-40a5-8b35-8a46a5d7b1e9"
   },
   "outputs": [
    {
     "name": "stdout",
     "output_type": "stream",
     "text": [
      "Var(v=3.0000, grad=14.0000)\n",
      "Var(v=5.0000, grad=3.0000)\n",
      "Var(v=15.0000, grad=1.0000)\n",
      "Var(v=9.0000, grad=3.0000)\n",
      "Var(v=27.0000, grad=1.0000)\n",
      "Var(v=42.0000, grad=1.0000)\n"
     ]
    }
   ],
   "source": [
    "a = Var(3.0)\n",
    "b = Var(5.0)\n",
    "c = a * b\n",
    "d = Var(9.0)\n",
    "e = a * d\n",
    "f = c + e\n",
    "\n",
    "f.backward()\n",
    "\n",
    "for v in [a, b, c, d, e, f]:\n",
    "    print(v)"
   ]
  },
  {
   "cell_type": "markdown",
   "metadata": {
    "id": "Fe3B6uEH140p"
   },
   "source": [
    "## Exercise a) What is being calculated?\n",
    "\n",
    "Explain briefly the output of the code? What is the expression we differentiate and with respect to what variables?\n",
    "\n",
    "The code outputs the values and the grad of variables a through f.\n",
    "It is evident that when f.backward() is called, all the varaibles are differentiated wrt the variables which they are part of. \n"
   ]
  },
  {
   "cell_type": "markdown",
   "metadata": {
    "id": "q8_Q0t2I3Ruj"
   },
   "source": [
    "## Exercise b) How does the backward function work?\n",
    "\n",
    "For the first example above, execute the backward function by hand to convince yourself that it indeed calculates the gradients with respect to the variables. Write down the sequence of calls to backprop for the first example above. \n",
    "\n",
    "```\n",
    "f.backprob(1)\n",
    "a.backprob(5)\n",
    "b.backprob(3)\n",
    "```\n",
    "\n",
    "\n",
    "\n"
   ]
  },
  {
   "cell_type": "markdown",
   "metadata": {
    "id": "A5oi21W4gpeM"
   },
   "source": [
    "## Exercise c) What happens if we run backward again?\n",
    "\n",
    "Try to execute the code below. Explain what happens.\n",
    "\n",
    "The same algorithm is run now with 2 instead of 1 as grad for the starting object (i.e. object that do not form any other object). This will double all gradient. "
   ]
  },
  {
   "cell_type": "code",
   "execution_count": 4,
   "metadata": {
    "colab": {
     "base_uri": "https://localhost:8080/"
    },
    "id": "DCtpJyr-gyX1",
    "outputId": "86d38af1-1c6e-487b-f4e6-bf29f0bb105e"
   },
   "outputs": [
    {
     "name": "stdout",
     "output_type": "stream",
     "text": [
      "Var(v=3.0000, grad=28.0000)\n",
      "Var(v=5.0000, grad=6.0000)\n",
      "Var(v=15.0000, grad=2.0000)\n",
      "Var(v=9.0000, grad=6.0000)\n",
      "Var(v=27.0000, grad=2.0000)\n",
      "Var(v=42.0000, grad=2.0000)\n"
     ]
    }
   ],
   "source": [
    "f.backward()\n",
    "\n",
    "for v in [a, b, c, d, e, f]:\n",
    "    print(v)"
   ]
  },
  {
   "cell_type": "markdown",
   "metadata": {
    "id": "e8bPVq2VhsP-"
   },
   "source": [
    "## Exercise d) Zero gradient\n",
    "\n",
    "We can zero the gradient by backpropagating a -1.0 as is shown in the example below. (If you have run backward multiple time then you also have to run the cell below an equal amount of times.) Explain what is going.\n",
    "\n",
    "When f.backward() f.backprop(1) is called. Here we call f.backprop with -1 as input, i.e. backpropagation is done using the previous gradient of f - 1. "
   ]
  },
  {
   "cell_type": "code",
   "execution_count": 5,
   "metadata": {
    "colab": {
     "base_uri": "https://localhost:8080/"
    },
    "id": "OnyPDQx9lJe0",
    "outputId": "0b86a0c1-3dc7-4f72-e661-649fa7b53c3a"
   },
   "outputs": [
    {
     "name": "stdout",
     "output_type": "stream",
     "text": [
      "Var(v=2.0000, grad=0.0000)\n",
      "Var(v=5.0000, grad=6.0000)\n",
      "Var(v=15.0000, grad=2.0000)\n",
      "Var(v=9.0000, grad=6.0000)\n",
      "Var(v=27.0000, grad=2.0000)\n",
      "Var(v=42.0000, grad=2.0000)\n",
      "Var(v=2.0000, grad=0.0000)\n",
      "Var(v=5.0000, grad=3.0000)\n",
      "Var(v=15.0000, grad=1.0000)\n",
      "Var(v=9.0000, grad=3.0000)\n",
      "Var(v=27.0000, grad=1.0000)\n",
      "Var(v=42.0000, grad=1.0000)\n"
     ]
    }
   ],
   "source": [
    "a = Var(2.0)\n",
    "\n",
    "for v in [a, b, c, d, e, f]:\n",
    "    print(v)\n",
    "\n",
    "f.backprop(-1.0)\n",
    "\n",
    "for v in [a, b, c, d, e, f]:\n",
    "    print(v)"
   ]
  },
  {
   "cell_type": "markdown",
   "metadata": {
    "id": "U4057_ljNvWB"
   },
   "source": [
    "## Exercise e) Test correctness of derivatives with the finite difference method\n",
    "\n",
    "Write a small function that uses [the finite difference method](https://en.wikipedia.org/wiki/Finite_difference_method) to numerically test that backpropation implementation is working. In short we will use\n",
    "$$\n",
    "\\frac{\\partial f(a)}{\\partial a} \\approx \\frac{f(a+da)-f(a)}{da}\n",
    "$$\n",
    "for $da \\ll 1$.\n",
    "\n",
    "\n",
    "_Insert your code in the cell below._\n"
   ]
  },
  {
   "cell_type": "code",
   "execution_count": 6,
   "metadata": {
    "colab": {
     "base_uri": "https://localhost:8080/"
    },
    "id": "9TGil92lSXDN",
    "outputId": "4993ad11-b380-487c-bcf2-c29a12ef60e1"
   },
   "outputs": [
    {
     "name": "stdout",
     "output_type": "stream",
     "text": [
      "Var(v=3.0000, grad=5.0000)\n",
      "Var(v=5.0000, grad=3.0000)\n",
      "Var(v=15.0000, grad=1.0000)\n",
      "5.000000413701855\n"
     ]
    }
   ],
   "source": [
    "# test function - try to change into other functions as well\n",
    "def test_function(a):\n",
    "    a = Var(a)\n",
    "    b = Var(5.0)\n",
    "    f = a * b\n",
    "    f.backward()\n",
    "    return a,b,f\n",
    "\n",
    "for v in test_function(3.0):\n",
    "    print(v)\n",
    "\n",
    "# Insert your finite difference code here\n",
    "def finite_difference(da=1e-10):\n",
    "    \"\"\"\n",
    "    This function compute the finite difference between\n",
    "    \n",
    "    Input:\n",
    "    da:          The finite difference                           (float)\n",
    "    \n",
    "    Output:\n",
    "    finite_difference: numerical approximation to the derivative (float) \n",
    "    \"\"\"\n",
    "    \n",
    "    _,_,fa_da =  test_function(3.0+da)       # <- Insert correct expression\n",
    "    _,_,fa = test_function(3.0)          # <- Insert correct expression\n",
    "\n",
    "    finite_difference = (fa_da.v - fa.v) / da\n",
    "    \n",
    "    return finite_difference\n",
    "\n",
    "print(finite_difference())"
   ]
  },
  {
   "cell_type": "markdown",
   "metadata": {
    "id": "6pZar5RKaUkg"
   },
   "source": [
    "# Create an artificial dataset to play with\n",
    "\n",
    "We create a non-linear 1d regression task. The generator supports various noise levels and it creates train, validation and test sets. You can modify it yourself if you want more or less challenging tasks."
   ]
  },
  {
   "cell_type": "code",
   "execution_count": 7,
   "metadata": {
    "id": "Y6yfMAQ8aduj"
   },
   "outputs": [],
   "source": [
    "import numpy as np\n",
    "import matplotlib.pyplot as plt\n",
    "\n",
    "np.random.seed(42)"
   ]
  },
  {
   "cell_type": "code",
   "execution_count": 8,
   "metadata": {
    "id": "4YabfD43ajNh"
   },
   "outputs": [],
   "source": [
    "def data_generator(noise=0.1, n_samples=300, D1=True):\n",
    "    # Create covariates and response variable\n",
    "    if D1:\n",
    "        X = np.linspace(-3, 3, num=n_samples).reshape(-1,1) # 1-D\n",
    "        np.random.shuffle(X)\n",
    "        y = np.random.normal((0.5*np.sin(X[:,0]*3) + X[:,0]), noise) # 1-D with trend\n",
    "    else:\n",
    "        X = np.random.multivariate_normal(np.zeros(3), noise*np.eye(3), size = n_samples) # 3-D\n",
    "        np.random.shuffle(X)    \n",
    "        y = np.sin(X[:,0]) - 5*(X[:,1]**2) + 0.5*X[:,2] # 3-D\n",
    "\n",
    "    # Stack them together vertically to split data set\n",
    "    data_set = np.vstack((X.T,y)).T\n",
    "    \n",
    "    train, validation, test = np.split(data_set, [int(0.35*n_samples), int(0.7*n_samples)], axis=0)\n",
    "    \n",
    "    # Standardization of the data, remember we do the standardization with the training set mean and standard deviation\n",
    "    train_mu = np.mean(train, axis=0)\n",
    "    train_sigma = np.std(train, axis=0)\n",
    "    \n",
    "    train = (train-train_mu)/train_sigma\n",
    "    validation = (validation-train_mu)/train_sigma\n",
    "    test = (test-train_mu)/train_sigma\n",
    "    \n",
    "    x_train, x_validation, x_test = train[:,:-1], validation[:,:-1], test[:,:-1]\n",
    "    y_train, y_validation, y_test = train[:,-1], validation[:,-1], test[:,-1]\n",
    "\n",
    "    return x_train, y_train,  x_validation, y_validation, x_test, y_test"
   ]
  },
  {
   "cell_type": "code",
   "execution_count": 9,
   "metadata": {
    "id": "u1oDngHLapIz"
   },
   "outputs": [],
   "source": [
    "D1 = True\n",
    "x_train, y_train,  x_validation, y_validation, x_test, y_test = data_generator(noise=0.5, D1=D1)"
   ]
  },
  {
   "cell_type": "code",
   "execution_count": 10,
   "metadata": {
    "colab": {
     "base_uri": "https://localhost:8080/",
     "height": 265
    },
    "id": "Ysfa3FsBavlm",
    "outputId": "26d5d03c-6c26-47ce-cbab-676c99c30b73"
   },
   "outputs": [
    {
     "data": {
      "image/png": "[encoded data removed]",
      "text/plain": [
       "<Figure size 432x288 with 1 Axes>"
      ]
     },
     "metadata": {
      "needs_background": "light"
     },
     "output_type": "display_data"
    }
   ],
   "source": [
    "if D1:\n",
    "    plt.scatter(x_train[:,0], y_train);\n",
    "    plt.scatter(x_validation[:,0], y_validation);\n",
    "    plt.scatter(x_test[:,0], y_test);\n",
    "else:\n",
    "    plt.scatter(x_train[:,1], y_train);\n",
    "    plt.scatter(x_validation[:,1], y_validation);\n",
    "    plt.scatter(x_test[:,1], y_test);\n",
    "plt.show()"
   ]
  },
  {
   "cell_type": "code",
   "execution_count": 11,
   "metadata": {
    "id": "zac2HHNlgbpm"
   },
   "outputs": [],
   "source": [
    "# convert from nparray to Var\n",
    "def nparray_to_Var(x):\n",
    "    if x.ndim==1:\n",
    "        y = [[Var(float(x[i]))] for i in range(x.shape[0])] # always work with list of list\n",
    "    else:\n",
    "        y = [[Var(float(x[i,j])) for j in range(x.shape[1])] for i in range(x.shape[0])]\n",
    "    return y\n",
    "   \n",
    "x_train = nparray_to_Var(x_train)\n",
    "y_train = nparray_to_Var(y_train)\n",
    "x_validation = nparray_to_Var(x_validation)\n",
    "y_validation = nparray_to_Var(y_validation)\n",
    "x_test = nparray_to_Var(x_test)\n",
    "y_test = nparray_to_Var(y_test)\n"
   ]
  },
  {
   "cell_type": "markdown",
   "metadata": {
    "id": "VbjrqcpVFtGe"
   },
   "source": [
    "# Defining and initializing the network\n",
    "\n",
    "The steps to create a feed forward neural network are the following:\n",
    "\n",
    "1. **Number of hidden layer and hidden units**. We have to define the number of hidden units in each layer. The number of features in X and the output dimensionality (the size of Y) are given but the numbers in between are set by the researcher. Remember that for each unit in each layer beside in the input has a bias term.\n",
    "2. **Activation functions** for each hidden layer. Each hidden layer in your list must have an activation function (it can also be the linear activation which is equivalent to identity function). The power of neural networks comes from non-linear activation functions that learn representations (features) from the data allowing us to learn from it. \n",
    "3. **Parameter initialization**. We will initialize the weights to have random values. This is done in practice by drawing pseudo random numbers from a Gaussian or uniform distribution. It turns out that for deeper models we have to be careful about how we scale the random numbers. This will be the topic of the exercise below. For now we will just use unit variance Gaussians.  \n",
    "\n",
    "In order to make life easier for ourselves we define a DenseLayer class that takes care of initialization and the forward pass. We can also extend it later with print and advanced initialization capabilities. For the latter we have introduced a Initializer class.\n",
    "\n",
    "Note that we use Sequence in the code below. A Sequence is an ordered list. This means the order we insert and access items are the same."
   ]
  },
  {
   "cell_type": "code",
   "execution_count": 12,
   "metadata": {
    "id": "ij_ieRsAt7Xt"
   },
   "outputs": [],
   "source": [
    "class Initializer:\n",
    "\n",
    "    def init_weights(self, n_in, n_out):\n",
    "        raise NotImplementedError\n",
    "\n",
    "    def init_bias(self, n_out):\n",
    "        raise NotImplementedError"
   ]
  },
  {
   "cell_type": "code",
   "execution_count": 13,
   "metadata": {
    "id": "eb18N5phuIha"
   },
   "outputs": [],
   "source": [
    "import random\n",
    "\n",
    "class NormalInitializer(Initializer):\n",
    "\n",
    "    def __init__(self, mean=0, std=0.1):\n",
    "        self.mean = mean\n",
    "        self.std = std\n",
    "\n",
    "    def init_weights(self, n_in, n_out):\n",
    "        return [[Var(random.gauss(self.mean, self.std)) for _ in range(n_out)] for _ in range(n_in)]\n",
    "\n",
    "    def init_bias(self, n_out):\n",
    "        return [Var(0.0) for _ in range(n_out)]\n",
    "\n",
    "class ConstantInitializer(Initializer):\n",
    "\n",
    "    def __init__(self, weight=1.0, bias=0.0):\n",
    "        self.weight = weight\n",
    "        self.bias = bias\n",
    "\n",
    "    def init_weights(self, n_in, n_out):\n",
    "        return [[Var(self.weight) for _ in range(n_out)] for _ in range(n_in)]\n",
    "\n",
    "    def init_bias(self, n_out):\n",
    "        return [Var(self.bias) for _ in range(n_out)]"
   ]
  },
  {
   "cell_type": "code",
   "execution_count": 14,
   "metadata": {
    "id": "jOLYGnZKuM6W"
   },
   "outputs": [],
   "source": [
    "from typing import Sequence\n",
    "\n",
    "class DenseLayer:\n",
    "    def __init__(self, n_in: int, n_out: int, act_fn, initializer = NormalInitializer()):\n",
    "        self.weights = initializer.init_weights(n_in, n_out)\n",
    "        self.bias = initializer.init_bias(n_out)\n",
    "        self.act_fn = act_fn\n",
    "    \n",
    "    def __repr__(self):    \n",
    "        return 'Weights: ' + repr(self.weights) + ' Biases: ' + repr(self.bias)\n",
    "\n",
    "    def parameters(self) -> Sequence[Var]:\n",
    "        params = []\n",
    "        for r in self.weights:\n",
    "            params += r\n",
    "\n",
    "        return params + self.bias\n",
    "\n",
    "    def forward(self, inputs: Sequence[Var]) -> Sequence[Var]:\n",
    "        assert len(self.weights) == len(inputs), \"weights and inputs must match in first dimension\"\n",
    "        weights = self.weights\n",
    "        out = []\n",
    "        for j in range(len(weights[0])):\n",
    "            node = self.bias[j]  # <- Insert code\n",
    "            for i in range(len(inputs)):\n",
    "                node += weights[i][j] * inputs[i]  # <- Insert code\n",
    "            node = self.act_fn(node)\n",
    "            out.append(node)\n",
    "\n",
    "        return out"
   ]
  },
  {
   "cell_type": "markdown",
   "metadata": {
    "id": "p_8n_SKnIW2F"
   },
   "source": [
    "## Exercise f) Complete the forward pass\n",
    "\n",
    "In the code below we initialize a 1-5-1 network and pass the training set through it. The forward method in DenseLayer is not complete. It  just outputs zeros right now. The method forward should perform an [affine transformation](https://en.wikipedia.org/wiki/Affine_transformation) on the input followed by an application of the activation function."
   ]
  },
  {
   "cell_type": "code",
   "execution_count": 15,
   "metadata": {
    "colab": {
     "base_uri": "https://localhost:8080/"
    },
    "id": "xDEjtePxE7Mv",
    "outputId": "271bcd73-43d6-4255-8ea0-6447b2a0ad8c"
   },
   "outputs": [
    {
     "name": "stdout",
     "output_type": "stream",
     "text": [
      "[[Var(v=0.0107, grad=0.0000)], [Var(v=0.0215, grad=0.0000)], [Var(v=0.0020, grad=0.0000)], [Var(v=-0.0123, grad=0.0000)], [Var(v=0.0159, grad=0.0000)], [Var(v=0.0147, grad=0.0000)], [Var(v=0.0095, grad=0.0000)], [Var(v=-0.0030, grad=0.0000)], [Var(v=-0.0127, grad=0.0000)], [Var(v=0.0059, grad=0.0000)], [Var(v=0.0165, grad=0.0000)], [Var(v=-0.0078, grad=0.0000)], [Var(v=0.0133, grad=0.0000)], [Var(v=-0.0089, grad=0.0000)], [Var(v=0.0071, grad=0.0000)], [Var(v=0.0138, grad=0.0000)], [Var(v=0.0255, grad=0.0000)], [Var(v=0.0121, grad=0.0000)], [Var(v=0.0013, grad=0.0000)], [Var(v=0.0042, grad=0.0000)], [Var(v=-0.0058, grad=0.0000)], [Var(v=-0.0026, grad=0.0000)], [Var(v=0.0186, grad=0.0000)], [Var(v=0.0188, grad=0.0000)], [Var(v=-0.0034, grad=0.0000)], [Var(v=-0.0092, grad=0.0000)], [Var(v=0.0241, grad=0.0000)], [Var(v=0.0265, grad=0.0000)], [Var(v=0.0028, grad=0.0000)], [Var(v=0.0167, grad=0.0000)], [Var(v=-0.0115, grad=0.0000)], [Var(v=0.0040, grad=0.0000)], [Var(v=-0.0101, grad=0.0000)], [Var(v=-0.0109, grad=0.0000)], [Var(v=0.0128, grad=0.0000)], [Var(v=-0.0020, grad=0.0000)], [Var(v=-0.0125, grad=0.0000)], [Var(v=-0.0047, grad=0.0000)], [Var(v=-0.0088, grad=0.0000)], [Var(v=-0.0063, grad=0.0000)], [Var(v=-0.0044, grad=0.0000)], [Var(v=-0.0060, grad=0.0000)], [Var(v=0.0249, grad=0.0000)], [Var(v=-0.0075, grad=0.0000)], [Var(v=-0.0059, grad=0.0000)], [Var(v=-0.0072, grad=0.0000)], [Var(v=0.0160, grad=0.0000)], [Var(v=0.0152, grad=0.0000)], [Var(v=-0.0028, grad=0.0000)], [Var(v=0.0155, grad=0.0000)], [Var(v=0.0068, grad=0.0000)], [Var(v=0.0006, grad=0.0000)], [Var(v=0.0169, grad=0.0000)], [Var(v=-0.0061, grad=0.0000)], [Var(v=0.0268, grad=0.0000)], [Var(v=0.0236, grad=0.0000)], [Var(v=-0.0041, grad=0.0000)], [Var(v=-0.0045, grad=0.0000)], [Var(v=0.0088, grad=0.0000)], [Var(v=-0.0108, grad=0.0000)], [Var(v=0.0157, grad=0.0000)], [Var(v=-0.0076, grad=0.0000)], [Var(v=-0.0126, grad=0.0000)], [Var(v=0.0076, grad=0.0000)], [Var(v=0.0056, grad=0.0000)], [Var(v=-0.0103, grad=0.0000)], [Var(v=-0.0111, grad=0.0000)], [Var(v=0.0198, grad=0.0000)], [Var(v=-0.0079, grad=0.0000)], [Var(v=0.0078, grad=0.0000)], [Var(v=-0.0030, grad=0.0000)], [Var(v=-0.0014, grad=0.0000)], [Var(v=0.0153, grad=0.0000)], [Var(v=0.0090, grad=0.0000)], [Var(v=-0.0011, grad=0.0000)], [Var(v=0.0243, grad=0.0000)], [Var(v=-0.0055, grad=0.0000)], [Var(v=-0.0053, grad=0.0000)], [Var(v=-0.0070, grad=0.0000)], [Var(v=0.0253, grad=0.0000)], [Var(v=0.0038, grad=0.0000)], [Var(v=0.0023, grad=0.0000)], [Var(v=-0.0114, grad=0.0000)], [Var(v=-0.0016, grad=0.0000)], [Var(v=-0.0058, grad=0.0000)], [Var(v=-0.0025, grad=0.0000)], [Var(v=-0.0021, grad=0.0000)], [Var(v=-0.0064, grad=0.0000)], [Var(v=-0.0117, grad=0.0000)], [Var(v=-0.0122, grad=0.0000)], [Var(v=0.0092, grad=0.0000)], [Var(v=-0.0037, grad=0.0000)], [Var(v=-0.0068, grad=0.0000)], [Var(v=0.0143, grad=0.0000)], [Var(v=-0.0097, grad=0.0000)], [Var(v=-0.0116, grad=0.0000)], [Var(v=0.0066, grad=0.0000)], [Var(v=0.0011, grad=0.0000)], [Var(v=0.0229, grad=0.0000)], [Var(v=-0.0069, grad=0.0000)], [Var(v=0.0150, grad=0.0000)], [Var(v=-0.0067, grad=0.0000)], [Var(v=-0.0102, grad=0.0000)], [Var(v=0.0073, grad=0.0000)], [Var(v=0.0213, grad=0.0000)]]\n"
     ]
    }
   ],
   "source": [
    "NN = [\n",
    "    DenseLayer(1, 5, lambda x: x.relu()),\n",
    "    DenseLayer(5, 1, lambda x: x.identity())\n",
    "]\n",
    "\n",
    "def forward(input, network):\n",
    "\n",
    "    def forward_single(x, network):\n",
    "        for layer in network:\n",
    "            x = layer.forward(x)\n",
    "        return x\n",
    "\n",
    "    output = [ forward_single(input[n], network) for n in range(len(input))]\n",
    "    return output\n",
    "    \n",
    "print(forward(x_train, NN))\n"
   ]
  },
  {
   "cell_type": "markdown",
   "metadata": {
    "id": "oLrGJytZFtGm"
   },
   "source": [
    "## Exercise g) Print all network parameters\n",
    "\n",
    "Make a function that prints all the parameters of the network (weights and biases) with information about in which layer the appear. In the object oriented spirit you should introduce a method in the DenseLayer class to print the parameters of a layer. Hint: You can take inspiration from the corresponding method in Var. "
   ]
  },
  {
   "cell_type": "code",
   "execution_count": 16,
   "metadata": {
    "id": "iac-VwYGFtGm"
   },
   "outputs": [
    {
     "name": "stdout",
     "output_type": "stream",
     "text": [
      "Layer  1 \n",
      "\n",
      "[Weights: [[Var(v=0.1268, grad=0.0000), Var(v=0.0530, grad=0.0000), Var(v=0.0431, grad=0.0000), Var(v=-0.1032, grad=0.0000), Var(v=0.0490, grad=0.0000)]] Biases: [Var(v=0.0000, grad=0.0000), Var(v=0.0000, grad=0.0000), Var(v=0.0000, grad=0.0000), Var(v=0.0000, grad=0.0000), Var(v=0.0000, grad=0.0000)], Weights: [[Var(v=0.0734, grad=0.0000)], [Var(v=-0.0888, grad=0.0000)], [Var(v=0.0580, grad=0.0000)], [Var(v=-0.0783, grad=0.0000)], [Var(v=0.1580, grad=0.0000)]] Biases: [Var(v=0.0000, grad=0.0000)]]\n",
      "\n",
      "\n",
      "Layer  2 \n",
      "\n",
      "[Weights: [[Var(v=0.1268, grad=0.0000), Var(v=0.0530, grad=0.0000), Var(v=0.0431, grad=0.0000), Var(v=-0.1032, grad=0.0000), Var(v=0.0490, grad=0.0000)]] Biases: [Var(v=0.0000, grad=0.0000), Var(v=0.0000, grad=0.0000), Var(v=0.0000, grad=0.0000), Var(v=0.0000, grad=0.0000), Var(v=0.0000, grad=0.0000)], Weights: [[Var(v=0.0734, grad=0.0000)], [Var(v=-0.0888, grad=0.0000)], [Var(v=0.0580, grad=0.0000)], [Var(v=-0.0783, grad=0.0000)], [Var(v=0.1580, grad=0.0000)]] Biases: [Var(v=0.0000, grad=0.0000)]]\n",
      "\n",
      "\n"
     ]
    }
   ],
   "source": [
    "# Insert code here and in the DenseLayer class\n",
    "ii = 1\n",
    "for layer in NN:    \n",
    "    print(\"Layer \", str(ii), \"\\n\")\n",
    "    print(NN)\n",
    "    print(\"\\n\")\n",
    "    ii+=1"
   ]
  },
  {
   "cell_type": "markdown",
   "metadata": {
    "id": "-u4xk_ORFtGz"
   },
   "source": [
    "# Activation functions\n",
    "\n",
    "To have a full definition of the neural network, we must define an activation function for every layer. Several activation functions have been proposed and have different characteristics. In the Var class we have already defined the rectified linear init (relu). \n",
    " "
   ]
  },
  {
   "cell_type": "markdown",
   "metadata": {
    "id": "jpIZPBpNI0pO"
   },
   "source": [
    "## Exercise h) Add more activation functions\n",
    "\n",
    "Implement the following activation functions in the Var class:\n",
    "\n",
    "* Identity: $$\\mathrm{identity}(x) = x$$\n",
    "* Hyperbolic tangent: $$\\tanh(x)$$\n",
    "* Sigmoid (or logistic function): $$\\mathrm{sigmoid}(x) = \\frac{1}{1.0 + \\exp(-x ) }$$  Hint: $\\mathrm{sigmoid}'(x)= \\mathrm{sigmoid}(x)(1-\\mathrm{sigmoid}(x))$.  \n",
    "\n",
    "Hint: You can seek inspiration in the relu method in the Var class."
   ]
  },
  {
   "cell_type": "markdown",
   "metadata": {
    "id": "_79HOAXrFtHK"
   },
   "source": [
    "## Visualization\n",
    "\n",
    "Now that we have defined our activation functions we can visualize them to see what they look like:"
   ]
  },
  {
   "cell_type": "code",
   "execution_count": 17,
   "metadata": {
    "colab": {
     "base_uri": "https://localhost:8080/",
     "height": 284
    },
    "id": "1FcylHqLTl-Z",
    "outputId": "c23c865b-3894-434c-f38a-f3cff5f772e5"
   },
   "outputs": [
    {
     "data": {
      "text/plain": [
       "[<matplotlib.lines.Line2D at 0x7fade991afd0>]"
      ]
     },
     "execution_count": 17,
     "metadata": {},
     "output_type": "execute_result"
    },
    {
     "data": {
      "image/png": "[encoded data removed]",
      "text/plain": [
       "<Figure size 432x288 with 1 Axes>"
      ]
     },
     "metadata": {
      "needs_background": "light"
     },
     "output_type": "display_data"
    }
   ],
   "source": [
    "x = np.linspace(-6, 6, 100)\n",
    "\n",
    "# convert from Var to ndarray  \n",
    "def Var_to_nparray(x):\n",
    "    y = np.zeros((len(x),len(x[0])))\n",
    "    for i in range(len(x)):\n",
    "        for j in range(len(x[0])):\n",
    "            y[i,j] = x[i][j].v\n",
    "    return y\n",
    "\n",
    "# define 1-1 network with weight = 1 and relu activation \n",
    "NN = [ DenseLayer(1, 1, lambda x: x.relu(), initializer = ConstantInitializer(1.0)) ] \n",
    "y = Var_to_nparray(forward(nparray_to_Var(x), NN))\n",
    "\n",
    "#y = Var_to_nparray(relu(nparray_to_Var(x)))\n",
    "plt.plot(x,y)"
   ]
  },
  {
   "cell_type": "code",
   "execution_count": 18,
   "metadata": {
    "colab": {
     "base_uri": "https://localhost:8080/",
     "height": 341
    },
    "id": "oOL2UolJFtHL",
    "outputId": "9d51d191-ca43-44a6-d5f6-d41a2bd0a80b"
   },
   "outputs": [
    {
     "data": {
      "image/png": "[encoded data removed]",
      "text/plain": [
       "<Figure size 360x360 with 1 Axes>"
      ]
     },
     "metadata": {
      "needs_background": "light"
     },
     "output_type": "display_data"
    }
   ],
   "source": [
    "# Testing all activation layers\n",
    "\n",
    "x = np.linspace(-6, 6, 100)\n",
    "units = {\n",
    "    \"identity\": lambda x: x.identity(),\n",
    "    \"sigmoid\": lambda x: x.sigmoid(),  #<- uncomment before sharing\n",
    "    \"relu\": lambda x: x.relu(),\n",
    "    \"tanh\": lambda x: x.tanh() #<- uncomment before sharing\n",
    "}\n",
    "\n",
    "plt.figure(figsize=(5, 5))\n",
    "[plt.plot(x, Var_to_nparray(forward(nparray_to_Var(x), [DenseLayer(1, 1, unit, initializer = ConstantInitializer(1.0))]) ), label=unit_name, lw=2) for unit_name, unit in units.items()] # unit(nparray_to_Var(x))), label=unit_name, lw=2) for unit_name, unit in units.items()]\n",
    "plt.legend(loc=2, fontsize=16)\n",
    "plt.title('Our activation functions', fontsize=20)\n",
    "plt.ylim([-2, 5])\n",
    "plt.xlim([-6, 6])\n",
    "plt.show()"
   ]
  },
  {
   "cell_type": "markdown",
   "metadata": {
    "id": "b-jdEl-7FtGs"
   },
   "source": [
    "# Advanced initialization schemes\n",
    "\n",
    "If we are not careful with initialization, the signals we propagate forward ($a^{(l)}$, $l=1,\\ldots,L$) and backward ($\\delta^l$, $l=L,L-1,\\ldots,1$) can blow up or shrink to zero. A statistical analysis of the variance of the signals for different activation functions can be found in these two papers: [Glorot initialization](http://proceedings.mlr.press/v9/glorot10a/glorot10a.pdf) and [He initialization](https://arxiv.org/pdf/1502.01852v1.pdf). \n",
    "\n",
    "The result of the analyses are proposals for how to make the initialization such that the variance of the signals (forward and backward) are kept approxmimatly constant when propagating from layer to layer. The exact expressions depend upon the non-linear activation function used. In Glorot initialization, the aim is to keep both the forward and backward variances constant whereas He only aims at keeping the variance in the forward pass constant.\n",
    "\n",
    "We define $n_{in}$ and $n_{out}$ as the number of input units and output units of a particular layer. \n",
    "\n",
    "The Glorot initialization has the form: \n",
    "\n",
    "$$w_{ij} \\sim N \\bigg( 0, \\, \\frac{2 \\alpha }{n_{in} + n_{out}} \\bigg) \\ . $$\n",
    "\n",
    "where $N(\\mu,\\sigma^2)$ is a Gaussian distribution with mean $\\mu$ and variance $\\sigma^2$ and $\\alpha$ is a parameter that depends upon the activation function used. For $\\tanh$, $\\alpha=1$ and for Rectified Linear Unit (ReLU) activations, $\\alpha=2$. (It is also possible to use a uniform distribution for initialization, see [this blog post](https://mmuratarat.github.io/2019-02-25/xavier-glorot-he-weight-init).) \n",
    "\n",
    "The He initialization is very similar\n",
    "\n",
    "$$w_{ij} \\sim N \\bigg( 0, \\, \\frac{\\alpha}{n_{in}} \\bigg) \\ . $$"
   ]
  },
  {
   "cell_type": "markdown",
   "metadata": {
    "id": "mqeyab9qFtGs"
   },
   "source": [
    "## Exercise i) Glorot and He initialization\n",
    " \n",
    "Using the Initializer class, implement functions that implement Glorot and He \n",
    "\n",
    "Explain briefly how you would test numerically that these initializations have the sought after property. Hint: See plots in Glorot paper.\n",
    "\n",
    "Comment: If you want to be more advanced then try to make a universal initializer taking both the activation function and type (Glorot or He) as argument."
   ]
  },
  {
   "cell_type": "code",
   "execution_count": 19,
   "metadata": {
    "id": "Qyk01CgaFtGt"
   },
   "outputs": [],
   "source": [
    "## Glorot\n",
    "def DenseLayer_Glorot_tanh(n_in: int, n_out: int):\n",
    "    std = 2*1/(n_in+n_out) # <- replace with proper initialization\n",
    "    return DenseLayer(n_in, n_out, lambda x: x.tanh(), initializer = NormalInitializer(std))\n",
    "\n",
    "## He\n",
    "def DenseLayer_He_relu(n_in: int, n_out: int):\n",
    "    std = 2/(n_in) # <- replace with proper initialization\n",
    "    return DenseLayer(n_in, n_out, lambda x: x.tanh(), initializer = NormalInitializer(std))"
   ]
  },
  {
   "cell_type": "markdown",
   "metadata": {
    "id": "-XyXBD37FtHk"
   },
   "source": [
    "## Exercise j) Forward pass unit test\n",
    "\n",
    "Write a bit of code to make a unit test that the forward pass works. This can be done by defining a simple network with for example all weights equal to one (using the ConstantInitializer method) and identity activation functions. \n",
    "\n",
    "Hints: Use the [assert](https://www.w3schools.com/python/ref_keyword_assert.asp), the nparray_to_Var and the Var_to_nparray commands. "
   ]
  },
  {
   "cell_type": "code",
   "execution_count": 20,
   "metadata": {
    "id": "k0miqRUAFtHl"
   },
   "outputs": [],
   "source": [
    "# Insert code here\n",
    "NN = [\n",
    "    DenseLayer(1, 3, lambda x: x.identity())\n",
    "]\n",
    "\n",
    "pre = NN[0].weights\n",
    "forward(x_train, NN)\n",
    "post = NN[0].weights\n",
    "\n",
    "assert (pre == post)"
   ]
  },
  {
   "cell_type": "markdown",
   "metadata": {
    "id": "faCxhfFnFtHp"
   },
   "source": [
    "# Loss functions\n",
    "\n",
    "We are only missing a loss function to we need to define a loss function and its derivative with respect to the output of the neural network $y$"
   ]
  },
  {
   "cell_type": "code",
   "execution_count": 21,
   "metadata": {
    "id": "I2eDYKvAFtHq"
   },
   "outputs": [],
   "source": [
    "def squared_loss(t, y):\n",
    "  \n",
    "    # add check that sizes agree\n",
    "  \n",
    "    def squared_loss_single(t, y):\n",
    "        Loss = Var(0.0)\n",
    "        for i in range(len(t)): # sum over outputs\n",
    "            Loss += (t[i]-y[i]) ** 2\n",
    "        return Loss\n",
    "\n",
    "    Loss = Var(0.0)\n",
    "    for n in range(len(t)): # sum over training data\n",
    "        Loss += squared_loss_single(t[n],y[n])\n",
    "    return Loss"
   ]
  },
  {
   "cell_type": "markdown",
   "metadata": {
    "id": "SrwSJ2UWFtHu"
   },
   "source": [
    "## Exercise j) Implement cross entropy loss\n",
    "\n",
    "Insert code below to implement cross-entropy loss for general dimensionality of $t$. Use a logits formulation:\n",
    "$$\n",
    "\\rm{Loss} = - \\sum_i t_i \\, log \\, p_i \n",
    "$$\n",
    "with $p$ given by the the softmax function in terms of the logits $h$:\n",
    "$$\n",
    "p_i = \\frac{\\exp(h_i)}{\\sum_{i'} \\exp(h_{i'} } .\n",
    "$$\n",
    "Inserting $p$ in the expression for the loss gives\n",
    "$$\n",
    "\\rm{Loss} = - \\sum_i t_i h_i + \\rm{LogSumExp}(h) \\ ,\n",
    "$$\n",
    "where \n",
    "$$\n",
    "\\rm{LogSumExp}(h) = \\log \\sum_i \\exp h_i \\ .\n",
    "$$\n",
    "This is true for $t$ being a one-hot vector. In practice you want to implement a [numerically stable](https://leimao.github.io/blog/LogSumExp/) version of LogSumExp. But we will not bother about that here.\n",
    "\n",
    "Help: You can add these methods in the Var class:\n",
    "\n",
    "    def exp(self):\n",
    "        return Var(exp(self.v), lambda: [(self, exp(self.v))])\n",
    "    \n",
    "    def log(self):\n",
    "        return Var(log(self.v), lambda: [(self, self.v ** -1)])"
   ]
  },
  {
   "cell_type": "code",
   "execution_count": 22,
   "metadata": {
    "id": "6nMuxyfzFtHv"
   },
   "outputs": [],
   "source": [
    "def cross_entropy_loss(t, h):\n",
    "    \n",
    "    def LogSumExp(hh):\n",
    "        aux = Var(0.0)\n",
    "        for l in hh: \n",
    "            for e in l:\n",
    "                aux += e.exp()\n",
    "        return aux.log()\n",
    "     \n",
    "    def loss_2(t, h):\n",
    "        Loss = Var(0.0)\n",
    "        for i in range(len(t)): # sum over outputs\n",
    "          Loss += (t[i]*h[i])\n",
    "        return Loss\n",
    "    \n",
    "    Loss = Var(0.0)\n",
    "    for n in range(len(t)): # sum over training data\n",
    "        Loss = Loss + loss_2(t[n],h[n])\n",
    "    \n",
    "    Loss = -Loss+LogSumExp(h)\n",
    "    \n",
    "    return Loss"
   ]
  },
  {
   "cell_type": "markdown",
   "metadata": {
    "id": "8fAF5ew4FtHy"
   },
   "source": [
    "# Backward pass\n",
    "\n",
    "Now the magic happens! We get the calculation of the gradients for free. Just do:"
   ]
  },
  {
   "cell_type": "code",
   "execution_count": 23,
   "metadata": {
    "id": "iHyfPPI9Qqwu"
   },
   "outputs": [],
   "source": [
    "NN = [\n",
    "    DenseLayer(1, 5, lambda x: x.relu()),\n",
    "    DenseLayer(5, 1, lambda x: x.identity())\n",
    "]\n",
    "\n",
    "output = forward(x_train, NN)\n",
    "\n",
    "#Loss = squared_loss(y_train,output)\n",
    "Loss = cross_entropy_loss(y_train,output)\n",
    "\n",
    "Loss.backward()"
   ]
  },
  {
   "cell_type": "markdown",
   "metadata": {
    "id": "49biIAYKQ1oG"
   },
   "source": [
    "and the gradients will be calculated:"
   ]
  },
  {
   "cell_type": "code",
   "execution_count": 24,
   "metadata": {
    "colab": {
     "base_uri": "https://localhost:8080/"
    },
    "id": "_rGt1bq_Q7uk",
    "outputId": "8d283577-9bd1-496b-f4a8-764a9507a4bf"
   },
   "outputs": [
    {
     "name": "stdout",
     "output_type": "stream",
     "text": [
      "Layer 0 \n",
      " Weights: [[Var(v=-0.0400, grad=-0.1339), Var(v=-0.0344, grad=1.8976), Var(v=-0.1955, grad=-10.9886), Var(v=-0.1387, grad=-0.2854), Var(v=-0.0477, grad=-1.6646)]] Biases: [Var(v=0.0000, grad=0.1220), Var(v=0.0000, grad=-1.7288), Var(v=0.0000, grad=10.0112), Var(v=0.0000, grad=0.2600), Var(v=0.0000, grad=1.5166)]\n",
      "Layer 1 \n",
      " Weights: [[Var(v=0.0028, grad=1.9391)], [Var(v=-0.0392, grad=1.6661)], [Var(v=0.2268, grad=9.4717)], [Var(v=0.0059, grad=6.7209)], [Var(v=0.0344, grad=2.3115)]] Biases: [Var(v=0.0000, grad=1.0000)]\n"
     ]
    },
    {
     "data": {
      "text/plain": [
       "[None, None]"
      ]
     },
     "execution_count": 24,
     "metadata": {},
     "output_type": "execute_result"
    }
   ],
   "source": [
    "[print('Layer', i, '\\n', NN[i]) for i in range(len(NN))] "
   ]
  },
  {
   "cell_type": "markdown",
   "metadata": {
    "id": "D7d7qK0uFtH9"
   },
   "source": [
    "# Backward pass unit test\n",
    "\n",
    "Above we used finite differences to test that Nanograd is actually doing what it is supposed to do. We can in principle try the same for the neural network. But we will trust that the test above is enough."
   ]
  },
  {
   "cell_type": "markdown",
   "metadata": {
    "id": "WgBi8GOSFtIN"
   },
   "source": [
    "# Training and validation\n",
    "\n",
    "We are ready to train some neural networks!\n",
    "\n",
    "We initialize again:"
   ]
  },
  {
   "cell_type": "code",
   "execution_count": 25,
   "metadata": {
    "id": "01ePmzBzRtdh"
   },
   "outputs": [],
   "source": [
    "NN = [\n",
    "    DenseLayer(1, 5, lambda x: x.relu()),\n",
    "    DenseLayer(5, 1, lambda x: x.identity())\n",
    "]\n",
    "\n",
    "output = forward(x_train, NN)\n",
    "\n",
    "#Loss = squared_loss(y_train,output)\n",
    "\n",
    "Loss = cross_entropy_loss(y_train,output)\n",
    "\n",
    "Loss.backward()"
   ]
  },
  {
   "cell_type": "markdown",
   "metadata": {
    "id": "10iRPiQ1ISHw"
   },
   "source": [
    "and make an update:\n",
    "\n",
    "We introduce a help function parameters to have a handle in all parameters in the network."
   ]
  },
  {
   "cell_type": "code",
   "execution_count": 26,
   "metadata": {
    "colab": {
     "base_uri": "https://localhost:8080/"
    },
    "id": "dhAI7eyeznia",
    "outputId": "8584bbad-00aa-4130-9961-44e9ae7fb4ed"
   },
   "outputs": [
    {
     "name": "stdout",
     "output_type": "stream",
     "text": [
      "Network before update:\n",
      "Layer 0 \n",
      " Weights: [[Var(v=0.0185, grad=0.0814), Var(v=-0.1749, grad=-3.7597), Var(v=0.0777, grad=4.0801), Var(v=-0.0598, grad=-2.6550), Var(v=0.1846, grad=0.6274)]] Biases: [Var(v=0.0000, grad=0.0698), Var(v=0.0000, grad=3.4254), Var(v=0.0000, grad=3.4954), Var(v=0.0000, grad=2.4190), Var(v=0.0000, grad=0.5375)]\n",
      "Layer 1 \n",
      " Weights: [[Var(v=-0.0016, grad=-0.9326)], [Var(v=0.0776, grad=8.4760)], [Var(v=-0.0810, grad=-3.9107)], [Var(v=0.0548, grad=2.8968)], [Var(v=-0.0125, grad=-9.2967)]] Biases: [Var(v=0.0000, grad=1.0000)]\n",
      "\n",
      "Network after update:\n",
      "Layer 0 \n",
      " Weights: [[Var(v=0.0177, grad=0.0814), Var(v=-0.1373, grad=-3.7597), Var(v=0.0369, grad=4.0801), Var(v=-0.0332, grad=-2.6550), Var(v=0.1783, grad=0.6274)]] Biases: [Var(v=-0.0007, grad=0.0698), Var(v=-0.0343, grad=3.4254), Var(v=-0.0350, grad=3.4954), Var(v=-0.0242, grad=2.4190), Var(v=-0.0054, grad=0.5375)]\n",
      "Layer 1 \n",
      " Weights: [[Var(v=0.0077, grad=-0.9326)], [Var(v=-0.0072, grad=8.4760)], [Var(v=-0.0419, grad=-3.9107)], [Var(v=0.0258, grad=2.8968)], [Var(v=0.0805, grad=-9.2967)]] Biases: [Var(v=-0.0100, grad=1.0000)]\n",
      "\n",
      "Network after zeroing gradients:\n",
      "Layer 0 \n",
      " Weights: [[Var(v=0.0177, grad=0.0000), Var(v=-0.1373, grad=0.0000), Var(v=0.0369, grad=0.0000), Var(v=-0.0332, grad=0.0000), Var(v=0.1783, grad=0.0000)]] Biases: [Var(v=-0.0007, grad=0.0000), Var(v=-0.0343, grad=0.0000), Var(v=-0.0350, grad=0.0000), Var(v=-0.0242, grad=0.0000), Var(v=-0.0054, grad=0.0000)]\n",
      "Layer 1 \n",
      " Weights: [[Var(v=0.0077, grad=0.0000)], [Var(v=-0.0072, grad=0.0000)], [Var(v=-0.0419, grad=0.0000)], [Var(v=0.0258, grad=0.0000)], [Var(v=0.0805, grad=0.0000)]] Biases: [Var(v=-0.0100, grad=0.0000)]\n"
     ]
    },
    {
     "data": {
      "text/plain": [
       "[None, None]"
      ]
     },
     "execution_count": 26,
     "metadata": {},
     "output_type": "execute_result"
    }
   ],
   "source": [
    "print('Network before update:')\n",
    "[print('Layer', i, '\\n', NN[i]) for i in range(len(NN))] \n",
    "\n",
    "def parameters(network):\n",
    "    params = []\n",
    "    for layer in range(len(network)):\n",
    "        params += network[layer].parameters()\n",
    "    return params\n",
    "\n",
    "def update_parameters(params, learning_rate=0.01):\n",
    "    for p in params:\n",
    "        p.v -= learning_rate*p.grad\n",
    "\n",
    "def zero_gradients(params):\n",
    "    for p in params:\n",
    "        p.grad = 0.0\n",
    "\n",
    "update_parameters(parameters(NN))\n",
    "\n",
    "print('\\nNetwork after update:')\n",
    "[print('Layer', i, '\\n', NN[i]) for i in range(len(NN))] \n",
    "\n",
    "zero_gradients(parameters(NN))\n",
    "\n",
    "print('\\nNetwork after zeroing gradients:')\n",
    "[print('Layer', i, '\\n', NN[i]) for i in range(len(NN))] "
   ]
  },
  {
   "cell_type": "code",
   "execution_count": 37,
   "metadata": {
    "id": "woWYpdw6FtIO"
   },
   "outputs": [],
   "source": [
    "# Initialize an arbitrary neural network\n",
    "NN = [\n",
    "    DenseLayer(1, 8, lambda x: x.relu()),\n",
    "    DenseLayer(8, 1, lambda x: x.identity())\n",
    "]\n",
    "\n",
    "# Recommended hyper-parameters for 3-D: \n",
    "#NN = [\n",
    "#    DenseLayer(3, 16, lambda x: x.relu()),\n",
    "#    DenseLayer(16, 1, lambda x: x.identity())\n",
    "#]\n",
    "\n",
    "\n",
    "### Notice that, when we switch from tanh to relu activation, we decrease the learning rate. This is due the stability of the gradients \n",
    "## of the activation functions."
   ]
  },
  {
   "cell_type": "code",
   "execution_count": 38,
   "metadata": {
    "id": "mdqaqYBVFtIR"
   },
   "outputs": [],
   "source": [
    "# Initialize training hyperparameters\n",
    "EPOCHS = 200\n",
    "LEARN_R = 2e-3 "
   ]
  },
  {
   "cell_type": "code",
   "execution_count": 39,
   "metadata": {
    "colab": {
     "base_uri": "https://localhost:8080/"
    },
    "id": "5kfg76GMFtIW",
    "outputId": "e30cf68a-31f2-42b4-cc5e-860c297c0f04",
    "scrolled": true
   },
   "outputs": [
    {
     "name": "stdout",
     "output_type": "stream",
     "text": [
      "   0 ( 0.00%) Train loss: 105.903 \t Validation loss: 107.650\n",
      "  10 ( 5.00%) Train loss: 86.403 \t Validation loss: 78.772\n",
      "  20 (10.00%) Train loss: 15.142 \t Validation loss: 11.346\n",
      "  30 (15.00%) Train loss: 14.347 \t Validation loss: 10.683\n",
      "  40 (20.00%) Train loss: 14.004 \t Validation loss: 10.487\n",
      "  50 (25.00%) Train loss: 13.663 \t Validation loss: 10.260\n",
      "  60 (30.00%) Train loss: 13.178 \t Validation loss: 9.956\n",
      "  70 (35.00%) Train loss: 12.690 \t Validation loss: 9.655\n",
      "  80 (40.00%) Train loss: 12.389 \t Validation loss: 9.425\n",
      "  90 (45.00%) Train loss: 12.222 \t Validation loss: 9.319\n",
      " 100 (50.00%) Train loss: 12.087 \t Validation loss: 9.251\n",
      " 110 (55.00%) Train loss: 11.997 \t Validation loss: 9.217\n",
      " 120 (60.00%) Train loss: 11.950 \t Validation loss: 9.194\n",
      " 130 (65.00%) Train loss: 11.924 \t Validation loss: 9.159\n",
      " 140 (70.00%) Train loss: 11.910 \t Validation loss: 9.128\n",
      " 150 (75.00%) Train loss: 11.902 \t Validation loss: 9.102\n",
      " 160 (80.00%) Train loss: 11.898 \t Validation loss: 9.083\n",
      " 170 (85.00%) Train loss: 11.895 \t Validation loss: 9.067\n",
      " 180 (90.00%) Train loss: 11.894 \t Validation loss: 9.056\n",
      " 190 (95.00%) Train loss: 11.893 \t Validation loss: 9.048\n"
     ]
    }
   ],
   "source": [
    "train_loss = []\n",
    "val_loss = []\n",
    "\n",
    "for e in range(EPOCHS):\n",
    "     \n",
    "    # Forward pass and loss computation\n",
    "    Loss = squared_loss(y_train, forward(x_train, NN))\n",
    "    #Loss = cross_entropy_loss(y_train, forward(x_train, NN))\n",
    "    \n",
    "    # Backward pass\n",
    "    Loss.backward()\n",
    "    \n",
    "    # gradient descent update\n",
    "    update_parameters(parameters(NN), LEARN_R)\n",
    "    zero_gradients(parameters(NN))\n",
    "    \n",
    "    # Training loss\n",
    "    train_loss.append(Loss.v)\n",
    "    \n",
    "    # Validation\n",
    "    Loss_validation = squared_loss(y_validation, forward(x_validation, NN))\n",
    "    val_loss.append(Loss_validation.v)\n",
    "    \n",
    "    if e%10==0:\n",
    "        print(\"{:4d}\".format(e),\n",
    "              \"({:5.2f}%)\".format(e/EPOCHS*100), \n",
    "              \"Train loss: {:4.3f} \\t Validation loss: {:4.3f}\".format(train_loss[-1], val_loss[-1]))\n",
    "        \n"
   ]
  },
  {
   "cell_type": "code",
   "execution_count": 40,
   "metadata": {
    "colab": {
     "base_uri": "https://localhost:8080/",
     "height": 265
    },
    "id": "VetyRWFwFtIY",
    "outputId": "344e490d-6d7d-455a-fa6f-88dd11eb957e"
   },
   "outputs": [
    {
     "data": {
      "image/png": "[encoded data removed]",
      "text/plain": [
       "<Figure size 432x288 with 1 Axes>"
      ]
     },
     "metadata": {
      "needs_background": "light"
     },
     "output_type": "display_data"
    }
   ],
   "source": [
    "plt.plot(range(len(train_loss)), train_loss);\n",
    "plt.plot(range(len(val_loss)), val_loss);"
   ]
  },
  {
   "cell_type": "markdown",
   "metadata": {
    "id": "8OgmIrM9FtIb"
   },
   "source": [
    "# Testing\n",
    "\n",
    "We have kept the calculation of the test error separate in order to emphasize that you should not use the test set in optimization."
   ]
  },
  {
   "cell_type": "code",
   "execution_count": 41,
   "metadata": {
    "id": "HmNi7S-vFtIc"
   },
   "outputs": [],
   "source": [
    "output_test = forward(x_test, NN)"
   ]
  },
  {
   "cell_type": "code",
   "execution_count": 42,
   "metadata": {
    "colab": {
     "base_uri": "https://localhost:8080/",
     "height": 316
    },
    "id": "7mmJOTSEFtIf",
    "outputId": "e3264095-cefe-4aee-893d-bf152438e332"
   },
   "outputs": [
    {
     "name": "stdout",
     "output_type": "stream",
     "text": [
      "Test loss:  9.841\n"
     ]
    },
    {
     "data": {
      "image/png": "[encoded data removed]",
      "text/plain": [
       "<Figure size 432x288 with 1 Axes>"
      ]
     },
     "metadata": {
      "needs_background": "light"
     },
     "output_type": "display_data"
    }
   ],
   "source": [
    "y_test_np = Var_to_nparray(y_test)\n",
    "plt.scatter(y_test_np, Var_to_nparray(output_test));\n",
    "plt.plot([np.min(y_test_np), np.max(y_test_np)], [np.min(y_test_np), np.max(y_test_np)], color='k');\n",
    "plt.xlabel(\"y\");\n",
    "plt.ylabel(\"$\\hat{y}$\");\n",
    "plt.title(\"Model prediction vs real in the test set, the close to the line the better\")\n",
    "plt.grid(True);\n",
    "plt.axis('equal');\n",
    "plt.tight_layout();\n",
    "\n",
    "Loss_test = squared_loss(y_test, forward(x_test, NN))\n",
    "\n",
    "print(\"Test loss:  {:4.3f}\".format(Loss_test.v))"
   ]
  },
  {
   "cell_type": "code",
   "execution_count": 43,
   "metadata": {
    "colab": {
     "base_uri": "https://localhost:8080/",
     "height": 279
    },
    "id": "ODi0WlmQFtIh",
    "outputId": "d1ab874f-0717-4987-87bf-1f0c7c8e7148"
   },
   "outputs": [
    {
     "data": {
      "image/png": "[encoded data removed]",
      "text/plain": [
       "<Figure size 432x288 with 1 Axes>"
      ]
     },
     "metadata": {
      "needs_background": "light"
     },
     "output_type": "display_data"
    }
   ],
   "source": [
    "x_test_np = Var_to_nparray(x_test)\n",
    "x_train_np = Var_to_nparray(x_train)\n",
    "y_train_np = Var_to_nparray(y_train)\n",
    "if D1:\n",
    "    plt.scatter(x_train_np, y_train_np, label=\"train data\");\n",
    "    plt.scatter(x_test_np, Var_to_nparray(output_test), label=\"test prediction\");\n",
    "    plt.scatter(x_test_np, y_test_np, label=\"test data\");\n",
    "    plt.legend();\n",
    "    plt.xlabel(\"x\");\n",
    "    plt.ylabel(\"y\");\n",
    "else:\n",
    "    plt.scatter(x_train_np[:,1], y_train, label=\"train data\");\n",
    "    plt.scatter(x_test_np[:,1], Var_to_nparray(output_test), label=\"test data prediction\");\n",
    "    plt.scatter(x_test_np[:,1], y_test_np, label=\"test data\");\n",
    "    plt.legend();\n",
    "    plt.xlabel(\"x\");\n",
    "    plt.ylabel(\"y\");"
   ]
  },
  {
   "cell_type": "markdown",
   "metadata": {
    "id": "zTBAmjsAFtIk"
   },
   "source": [
    "## Exercise k) Show overfitting, underfitting and just right fitting\n",
    "\n",
    "Vary the architecture and other things to show clear signs of overfitting (=training loss significantly lower than test loss) and underfitting (=not fitting enoung to training data so that test performance is also hurt).\n",
    "\n",
    "See also if you can get a good compromise which leads to a low validation loss. \n",
    "\n",
    "For this problem do you see any big difference between validation and test loss? The answer here will probably be no. Discuss cases where it is important to keep the two separate.\n",
    "\n",
    "\n",
    "\n",
    "### Underfitting"
   ]
  },
  {
   "cell_type": "code",
   "execution_count": 51,
   "metadata": {
    "id": "tQZCn2dxFtIl"
   },
   "outputs": [
    {
     "name": "stdout",
     "output_type": "stream",
     "text": [
      "   0 ( 0.00%) Train loss: 107.316 \t Validation loss: 104.882\n",
      "  10 ( 5.00%) Train loss: 12.039 \t Validation loss: 8.994\n",
      "  20 (10.00%) Train loss: 12.031 \t Validation loss: 8.979\n",
      "  30 (15.00%) Train loss: 12.031 \t Validation loss: 8.979\n",
      "  40 (20.00%) Train loss: 12.031 \t Validation loss: 8.979\n",
      "  50 (25.00%) Train loss: 12.031 \t Validation loss: 8.979\n",
      "  60 (30.00%) Train loss: 12.031 \t Validation loss: 8.979\n",
      "  70 (35.00%) Train loss: 12.031 \t Validation loss: 8.979\n",
      "  80 (40.00%) Train loss: 12.031 \t Validation loss: 8.979\n",
      "  90 (45.00%) Train loss: 12.031 \t Validation loss: 8.979\n",
      " 100 (50.00%) Train loss: 12.031 \t Validation loss: 8.979\n",
      " 110 (55.00%) Train loss: 12.031 \t Validation loss: 8.979\n",
      " 120 (60.00%) Train loss: 12.031 \t Validation loss: 8.979\n",
      " 130 (65.00%) Train loss: 12.031 \t Validation loss: 8.979\n",
      " 140 (70.00%) Train loss: 12.031 \t Validation loss: 8.979\n",
      " 150 (75.00%) Train loss: 12.031 \t Validation loss: 8.979\n",
      " 160 (80.00%) Train loss: 12.031 \t Validation loss: 8.979\n",
      " 170 (85.00%) Train loss: 12.031 \t Validation loss: 8.979\n",
      " 180 (90.00%) Train loss: 12.031 \t Validation loss: 8.979\n",
      " 190 (95.00%) Train loss: 12.031 \t Validation loss: 8.979\n"
     ]
    },
    {
     "data": {
      "image/png": "[encoded data removed]",
      "text/plain": [
       "<Figure size 432x288 with 1 Axes>"
      ]
     },
     "metadata": {
      "needs_background": "light"
     },
     "output_type": "display_data"
    }
   ],
   "source": [
    "NN = [\n",
    "    DenseLayer(1, 4, lambda x: x.identity()),\n",
    "    DenseLayer(4, 1, lambda x: x.identity())\n",
    "]\n",
    "\n",
    "train_loss = []\n",
    "val_loss = []\n",
    "\n",
    "for e in range(EPOCHS):\n",
    "     \n",
    "    # Forward pass and loss computation\n",
    "    Loss = squared_loss(y_train, forward(x_train, NN))\n",
    "    #Loss = cross_entropy_loss(y_train, forward(x_train, NN))\n",
    "    \n",
    "    # Backward pass\n",
    "    Loss.backward()\n",
    "    \n",
    "    # gradient descent update\n",
    "    update_parameters(parameters(NN), LEARN_R)\n",
    "    zero_gradients(parameters(NN))\n",
    "    \n",
    "    # Training loss\n",
    "    train_loss.append(Loss.v)\n",
    "    \n",
    "    # Validation\n",
    "    Loss_validation = squared_loss(y_validation, forward(x_validation, NN))\n",
    "    val_loss.append(Loss_validation.v)\n",
    "    \n",
    "    if e%10==0:\n",
    "        print(\"{:4d}\".format(e),\n",
    "              \"({:5.2f}%)\".format(e/EPOCHS*100), \n",
    "              \"Train loss: {:4.3f} \\t Validation loss: {:4.3f}\".format(train_loss[-1], val_loss[-1]))\n",
    "        \n",
    "output_test = forward(x_test, NN)\n",
    "y_test_np = Var_to_nparray(y_test)\n",
    "Loss_test = squared_loss(y_test, forward(x_test, NN))\n",
    "\n",
    "x_test_np = Var_to_nparray(x_test)\n",
    "x_train_np = Var_to_nparray(x_train)\n",
    "y_train_np = Var_to_nparray(y_train)\n",
    "if D1:\n",
    "    plt.scatter(x_train_np, y_train_np, label=\"train data\");\n",
    "    plt.scatter(x_test_np, Var_to_nparray(output_test), label=\"test prediction\");\n",
    "    plt.scatter(x_test_np, y_test_np, label=\"test data\");\n",
    "    plt.legend();\n",
    "    plt.xlabel(\"x\");\n",
    "    plt.ylabel(\"y\");\n",
    "else:\n",
    "    plt.scatter(x_train_np[:,1], y_train, label=\"train data\");\n",
    "    plt.scatter(x_test_np[:,1], Var_to_nparray(output_test), label=\"test data prediction\");\n",
    "    plt.scatter(x_test_np[:,1], y_test_np, label=\"test data\");\n",
    "    plt.legend();\n",
    "    plt.xlabel(\"x\");\n",
    "    plt.ylabel(\"y\");\n"
   ]
  },
  {
   "cell_type": "markdown",
   "metadata": {},
   "source": [
    "### Overfitting"
   ]
  },
  {
   "cell_type": "code",
   "execution_count": 57,
   "metadata": {},
   "outputs": [
    {
     "name": "stdout",
     "output_type": "stream",
     "text": [
      "   0 ( 0.00%) Train loss: 104.945 \t Validation loss: 107.678\n",
      "  10 ( 1.25%) Train loss: 104.869 \t Validation loss: 107.614\n",
      "  20 ( 2.50%) Train loss: 104.800 \t Validation loss: 107.538\n",
      "  30 ( 3.75%) Train loss: 104.689 \t Validation loss: 107.414\n",
      "  40 ( 5.00%) Train loss: 104.484 \t Validation loss: 107.179\n",
      "  50 ( 6.25%) Train loss: 104.028 \t Validation loss: 106.646\n",
      "  60 ( 7.50%) Train loss: 102.621 \t Validation loss: 104.884\n",
      "  70 ( 8.75%) Train loss: 94.159 \t Validation loss: 93.041\n",
      "  80 (10.00%) Train loss: 32.732 \t Validation loss: 36.618\n",
      "  90 (11.25%) Train loss: 25.672 \t Validation loss: 33.908\n",
      " 100 (12.50%) Train loss: 28.157 \t Validation loss: 41.609\n",
      " 110 (13.75%) Train loss: 25.379 \t Validation loss: 37.209\n",
      " 120 (15.00%) Train loss: 24.889 \t Validation loss: 35.076\n",
      " 130 (16.25%) Train loss: 23.556 \t Validation loss: 31.074\n",
      " 140 (17.50%) Train loss: 23.007 \t Validation loss: 29.122\n",
      " 150 (18.75%) Train loss: 22.579 \t Validation loss: 26.741\n",
      " 160 (20.00%) Train loss: 21.455 \t Validation loss: 23.832\n",
      " 170 (21.25%) Train loss: 20.800 \t Validation loss: 22.502\n",
      " 180 (22.50%) Train loss: 19.921 \t Validation loss: 20.729\n",
      " 190 (23.75%) Train loss: 19.043 \t Validation loss: 19.032\n",
      " 200 (25.00%) Train loss: 18.851 \t Validation loss: 18.356\n",
      " 210 (26.25%) Train loss: 18.350 \t Validation loss: 17.660\n",
      " 220 (27.50%) Train loss: 17.470 \t Validation loss: 16.303\n",
      " 230 (28.75%) Train loss: 16.853 \t Validation loss: 15.489\n",
      " 240 (30.00%) Train loss: 16.578 \t Validation loss: 15.195\n",
      " 250 (31.25%) Train loss: 16.232 \t Validation loss: 14.432\n",
      " 260 (32.50%) Train loss: 16.026 \t Validation loss: 14.184\n",
      " 270 (33.75%) Train loss: 14.984 \t Validation loss: 12.810\n",
      " 280 (35.00%) Train loss: 15.279 \t Validation loss: 13.224\n",
      " 290 (36.25%) Train loss: 14.585 \t Validation loss: 12.529\n",
      " 300 (37.50%) Train loss: 14.404 \t Validation loss: 12.424\n",
      " 310 (38.75%) Train loss: 14.096 \t Validation loss: 12.295\n",
      " 320 (40.00%) Train loss: 13.948 \t Validation loss: 12.294\n",
      " 330 (41.25%) Train loss: 13.541 \t Validation loss: 11.857\n",
      " 340 (42.50%) Train loss: 13.174 \t Validation loss: 11.641\n",
      " 350 (43.75%) Train loss: 13.129 \t Validation loss: 11.651\n",
      " 360 (45.00%) Train loss: 12.720 \t Validation loss: 11.151\n",
      " 370 (46.25%) Train loss: 12.712 \t Validation loss: 11.244\n",
      " 380 (47.50%) Train loss: 12.574 \t Validation loss: 11.062\n",
      " 390 (48.75%) Train loss: 12.386 \t Validation loss: 10.806\n",
      " 400 (50.00%) Train loss: 12.203 \t Validation loss: 10.643\n",
      " 410 (51.25%) Train loss: 12.278 \t Validation loss: 10.676\n",
      " 420 (52.50%) Train loss: 11.972 \t Validation loss: 10.320\n",
      " 430 (53.75%) Train loss: 12.056 \t Validation loss: 10.455\n",
      " 440 (55.00%) Train loss: 11.912 \t Validation loss: 10.237\n",
      " 450 (56.25%) Train loss: 11.680 \t Validation loss: 9.918\n",
      " 460 (57.50%) Train loss: 11.271 \t Validation loss: 9.319\n",
      " 470 (58.75%) Train loss: 11.118 \t Validation loss: 9.088\n",
      " 480 (60.00%) Train loss: 11.249 \t Validation loss: 9.323\n",
      " 490 (61.25%) Train loss: 11.388 \t Validation loss: 9.540\n",
      " 500 (62.50%) Train loss: 11.211 \t Validation loss: 9.282\n",
      " 510 (63.75%) Train loss: 11.161 \t Validation loss: 9.221\n",
      " 520 (65.00%) Train loss: 11.042 \t Validation loss: 9.057\n",
      " 530 (66.25%) Train loss: 10.973 \t Validation loss: 8.961\n",
      " 540 (67.50%) Train loss: 10.897 \t Validation loss: 8.860\n",
      " 550 (68.75%) Train loss: 10.814 \t Validation loss: 8.735\n",
      " 560 (70.00%) Train loss: 10.755 \t Validation loss: 8.643\n",
      " 570 (71.25%) Train loss: 10.718 \t Validation loss: 8.596\n",
      " 580 (72.50%) Train loss: 10.701 \t Validation loss: 8.574\n",
      " 590 (73.75%) Train loss: 10.698 \t Validation loss: 8.574\n",
      " 600 (75.00%) Train loss: 10.670 \t Validation loss: 8.533\n",
      " 610 (76.25%) Train loss: 10.618 \t Validation loss: 8.454\n",
      " 620 (77.50%) Train loss: 10.574 \t Validation loss: 8.392\n",
      " 630 (78.75%) Train loss: 10.597 \t Validation loss: 8.430\n",
      " 640 (80.00%) Train loss: 10.602 \t Validation loss: 8.443\n",
      " 650 (81.25%) Train loss: 10.627 \t Validation loss: 8.491\n",
      " 660 (82.50%) Train loss: 10.634 \t Validation loss: 8.504\n",
      " 670 (83.75%) Train loss: 10.632 \t Validation loss: 8.503\n",
      " 680 (85.00%) Train loss: 10.623 \t Validation loss: 8.493\n",
      " 690 (86.25%) Train loss: 10.615 \t Validation loss: 8.486\n",
      " 700 (87.50%) Train loss: 10.615 \t Validation loss: 8.488\n",
      " 710 (88.75%) Train loss: 10.611 \t Validation loss: 8.491\n",
      " 720 (90.00%) Train loss: 10.610 \t Validation loss: 8.490\n",
      " 730 (91.25%) Train loss: 10.605 \t Validation loss: 8.490\n",
      " 740 (92.50%) Train loss: 10.610 \t Validation loss: 8.502\n",
      " 750 (93.75%) Train loss: 10.580 \t Validation loss: 8.450\n",
      " 760 (95.00%) Train loss: 10.531 \t Validation loss: 8.397\n",
      " 770 (96.25%) Train loss: 10.512 \t Validation loss: 8.342\n",
      " 780 (97.50%) Train loss: 10.473 \t Validation loss: 8.305\n",
      " 790 (98.75%) Train loss: 10.482 \t Validation loss: 8.327\n"
     ]
    },
    {
     "data": {
      "image/png": "[encoded data removed]",
      "text/plain": [
       "<Figure size 432x288 with 1 Axes>"
      ]
     },
     "metadata": {
      "needs_background": "light"
     },
     "output_type": "display_data"
    }
   ],
   "source": [
    "NN = [\n",
    "    DenseLayer(1, 12, lambda x: x.relu()),\n",
    "    DenseLayer(12, 8, lambda x: x.relu()),\n",
    "    DenseLayer(8, 8, lambda x: x.relu()),\n",
    "    DenseLayer(8, 8, lambda x: x.relu()),\n",
    "    DenseLayer(8, 1, lambda x: x.identity())\n",
    "]\n",
    "\n",
    "train_loss = []\n",
    "val_loss = []\n",
    "\n",
    "EPOCHS = 800\n",
    "\n",
    "for e in range(EPOCHS):\n",
    "     \n",
    "    # Forward pass and loss computation\n",
    "    Loss = squared_loss(y_train, forward(x_train, NN))\n",
    "    #Loss = cross_entropy_loss(y_train, forward(x_train, NN))\n",
    "    \n",
    "    # Backward pass\n",
    "    Loss.backward()\n",
    "    \n",
    "    # gradient descent update\n",
    "    update_parameters(parameters(NN), LEARN_R)\n",
    "    zero_gradients(parameters(NN))\n",
    "    \n",
    "    # Training loss\n",
    "    train_loss.append(Loss.v)\n",
    "    \n",
    "    # Validation\n",
    "    Loss_validation = squared_loss(y_validation, forward(x_validation, NN))\n",
    "    val_loss.append(Loss_validation.v)\n",
    "    \n",
    "    if e%10==0:\n",
    "        print(\"{:4d}\".format(e),\n",
    "              \"({:5.2f}%)\".format(e/EPOCHS*100), \n",
    "              \"Train loss: {:4.3f} \\t Validation loss: {:4.3f}\".format(train_loss[-1], val_loss[-1]))\n",
    "        \n",
    "output_test = forward(x_test, NN)\n",
    "y_test_np = Var_to_nparray(y_test)\n",
    "Loss_test = squared_loss(y_test, forward(x_test, NN))\n",
    "\n",
    "x_test_np = Var_to_nparray(x_test)\n",
    "x_train_np = Var_to_nparray(x_train)\n",
    "y_train_np = Var_to_nparray(y_train)\n",
    "if D1:\n",
    "    plt.scatter(x_train_np, y_train_np, label=\"train data\");\n",
    "    plt.scatter(x_test_np, Var_to_nparray(output_test), label=\"test prediction\");\n",
    "    plt.scatter(x_test_np, y_test_np, label=\"test data\");\n",
    "    plt.legend();\n",
    "    plt.xlabel(\"x\");\n",
    "    plt.ylabel(\"y\");\n",
    "else:\n",
    "    plt.scatter(x_train_np[:,1], y_train, label=\"train data\");\n",
    "    plt.scatter(x_test_np[:,1], Var_to_nparray(output_test), label=\"test data prediction\");\n",
    "    plt.scatter(x_test_np[:,1], y_test_np, label=\"test data\");\n",
    "    plt.legend();\n",
    "    plt.xlabel(\"x\");\n",
    "    plt.ylabel(\"y\");"
   ]
  },
  {
   "cell_type": "markdown",
   "metadata": {},
   "source": [
    "### Just right"
   ]
  },
  {
   "cell_type": "code",
   "execution_count": 56,
   "metadata": {},
   "outputs": [
    {
     "name": "stdout",
     "output_type": "stream",
     "text": [
      "   0 ( 0.00%) Train loss: 104.922 \t Validation loss: 107.744\n",
      "  10 ( 2.50%) Train loss: 104.494 \t Validation loss: 107.202\n",
      "  20 ( 5.00%) Train loss: 103.336 \t Validation loss: 105.879\n",
      "  30 ( 7.50%) Train loss: 97.368 \t Validation loss: 98.701\n",
      "  40 (10.00%) Train loss: 46.709 \t Validation loss: 38.203\n",
      "  50 (12.50%) Train loss: 51.024 \t Validation loss: 42.497\n",
      "  60 (15.00%) Train loss: 18.677 \t Validation loss: 15.070\n",
      "  70 (17.50%) Train loss: 17.728 \t Validation loss: 14.158\n",
      "  80 (20.00%) Train loss: 16.647 \t Validation loss: 13.096\n",
      "  90 (22.50%) Train loss: 15.480 \t Validation loss: 11.902\n",
      " 100 (25.00%) Train loss: 14.313 \t Validation loss: 10.773\n",
      " 110 (27.50%) Train loss: 13.235 \t Validation loss: 9.801\n",
      " 120 (30.00%) Train loss: 12.571 \t Validation loss: 9.264\n",
      " 130 (32.50%) Train loss: 12.195 \t Validation loss: 9.001\n",
      " 140 (35.00%) Train loss: 12.012 \t Validation loss: 8.872\n",
      " 150 (37.50%) Train loss: 11.937 \t Validation loss: 8.828\n",
      " 160 (40.00%) Train loss: 11.880 \t Validation loss: 8.793\n",
      " 170 (42.50%) Train loss: 11.827 \t Validation loss: 8.762\n",
      " 180 (45.00%) Train loss: 11.774 \t Validation loss: 8.728\n",
      " 190 (47.50%) Train loss: 11.720 \t Validation loss: 8.694\n",
      " 200 (50.00%) Train loss: 11.674 \t Validation loss: 8.678\n",
      " 210 (52.50%) Train loss: 11.523 \t Validation loss: 8.647\n",
      " 220 (55.00%) Train loss: 11.310 \t Validation loss: 8.565\n",
      " 230 (57.50%) Train loss: 11.143 \t Validation loss: 8.484\n",
      " 240 (60.00%) Train loss: 11.036 \t Validation loss: 8.420\n",
      " 250 (62.50%) Train loss: 10.934 \t Validation loss: 8.367\n",
      " 260 (65.00%) Train loss: 10.845 \t Validation loss: 8.326\n",
      " 270 (67.50%) Train loss: 10.775 \t Validation loss: 8.289\n",
      " 280 (70.00%) Train loss: 10.705 \t Validation loss: 8.255\n",
      " 290 (72.50%) Train loss: 10.633 \t Validation loss: 8.211\n",
      " 300 (75.00%) Train loss: 10.562 \t Validation loss: 8.167\n",
      " 310 (77.50%) Train loss: 10.486 \t Validation loss: 8.120\n",
      " 320 (80.00%) Train loss: 10.407 \t Validation loss: 8.072\n",
      " 330 (82.50%) Train loss: 10.326 \t Validation loss: 8.007\n",
      " 340 (85.00%) Train loss: 10.243 \t Validation loss: 7.977\n",
      " 350 (87.50%) Train loss: 10.159 \t Validation loss: 7.912\n",
      " 360 (90.00%) Train loss: 10.073 \t Validation loss: 7.865\n",
      " 370 (92.50%) Train loss: 9.985 \t Validation loss: 7.821\n",
      " 380 (95.00%) Train loss: 9.897 \t Validation loss: 7.797\n",
      " 390 (97.50%) Train loss: 9.811 \t Validation loss: 7.719\n"
     ]
    },
    {
     "data": {
      "image/png": "[encoded data removed]",
      "text/plain": [
       "<Figure size 432x288 with 1 Axes>"
      ]
     },
     "metadata": {
      "needs_background": "light"
     },
     "output_type": "display_data"
    }
   ],
   "source": [
    "NN = [\n",
    "    DenseLayer(1, 8, lambda x: x.relu()),\n",
    "    DenseLayer(8, 8, lambda x: x.relu()),\n",
    "    DenseLayer(8, 8, lambda x: x.relu()),\n",
    "    DenseLayer(8, 1, lambda x: x.identity())\n",
    "]\n",
    "\n",
    "train_loss = []\n",
    "val_loss = []\n",
    "\n",
    "EPOCHS = 400\n",
    "\n",
    "for e in range(EPOCHS):\n",
    "     \n",
    "    # Forward pass and loss computation\n",
    "    Loss = squared_loss(y_train, forward(x_train, NN))\n",
    "    #Loss = cross_entropy_loss(y_train, forward(x_train, NN))\n",
    "    \n",
    "    # Backward pass\n",
    "    Loss.backward()\n",
    "    \n",
    "    # gradient descent update\n",
    "    update_parameters(parameters(NN), LEARN_R)\n",
    "    zero_gradients(parameters(NN))\n",
    "    \n",
    "    # Training loss\n",
    "    train_loss.append(Loss.v)\n",
    "    \n",
    "    # Validation\n",
    "    Loss_validation = squared_loss(y_validation, forward(x_validation, NN))\n",
    "    val_loss.append(Loss_validation.v)\n",
    "    \n",
    "    if e%10==0:\n",
    "        print(\"{:4d}\".format(e),\n",
    "              \"({:5.2f}%)\".format(e/EPOCHS*100), \n",
    "              \"Train loss: {:4.3f} \\t Validation loss: {:4.3f}\".format(train_loss[-1], val_loss[-1]))\n",
    "        \n",
    "output_test = forward(x_test, NN)\n",
    "y_test_np = Var_to_nparray(y_test)\n",
    "Loss_test = squared_loss(y_test, forward(x_test, NN))\n",
    "\n",
    "x_test_np = Var_to_nparray(x_test)\n",
    "x_train_np = Var_to_nparray(x_train)\n",
    "y_train_np = Var_to_nparray(y_train)\n",
    "if D1:\n",
    "    plt.scatter(x_train_np, y_train_np, label=\"train data\");\n",
    "    plt.scatter(x_test_np, Var_to_nparray(output_test), label=\"test prediction\");\n",
    "    plt.scatter(x_test_np, y_test_np, label=\"test data\");\n",
    "    plt.legend();\n",
    "    plt.xlabel(\"x\");\n",
    "    plt.ylabel(\"y\");\n",
    "else:\n",
    "    plt.scatter(x_train_np[:,1], y_train, label=\"train data\");\n",
    "    plt.scatter(x_test_np[:,1], Var_to_nparray(output_test), label=\"test data prediction\");\n",
    "    plt.scatter(x_test_np[:,1], y_test_np, label=\"test data\");\n",
    "    plt.legend();\n",
    "    plt.xlabel(\"x\");\n",
    "    plt.ylabel(\"y\");"
   ]
  },
  {
   "cell_type": "markdown",
   "metadata": {},
   "source": [
    "### Conclusion\n",
    "In the first fit, we choose to use the identity kernel as activation functions, this meant that the NN in fact collapses into a linear model. In other words, the first NN corresponds to fitting a affine function to the data, which is evident from the plots. This is an example of a clear underfit. \n",
    "\n",
    "\n",
    "In the second fit, the size of the NN has been greatly increased. This meant that it took longer for the gradient descent to converge, hence it was neccesary to increase the number of iterations. \n",
    "\n",
    "In the final fit, both the train loss and the validation loss decreases quite rapidly together indicating at good balance.\n",
    "\n",
    "NB:\n",
    "The \"overfit\" example here is actually not a overfit. We would really have wanted to use more layers with more neurons in each, however, due to computational limitations we did not. Increasing the size of the NN we would expect to reach some point, were the train loss continues to decrease but the validation loss suddenly increases, indicating that we are overfitting the test data. \n"
   ]
  },
  {
   "cell_type": "markdown",
   "metadata": {
    "id": "fYPZP-eTFtIo"
   },
   "source": [
    "# Next steps - classification\n",
    "\n",
    "It is straight forward to extend what we have done to classification. \n",
    "\n",
    "For numerical stability it is better to make softmax and cross-entropy as one function so we write the cross entropy loss as a function of the logits we talked about last week. \n",
    "\n",
    "Next week we will see how to perform classification in PyTorch."
   ]
  },
  {
   "cell_type": "markdown",
   "metadata": {
    "id": "qsVPul3QFtIo"
   },
   "source": [
    "## Exercise l) optional - Implement backpropagation for classification\n",
    "\n",
    "Should be possible with very few lines of code. :-)"
   ]
  },
  {
   "cell_type": "code",
   "execution_count": 35,
   "metadata": {
    "id": "oC8QrI2tFtIp"
   },
   "outputs": [],
   "source": [
    "# Just add code."
   ]
  },
  {
   "cell_type": "markdown",
   "metadata": {
    "id": "APqhJv3tta1O"
   },
   "source": [
    "## Exercise m) optional - Introduce a NeuralNetwork class\n",
    "\n",
    "The functions we applied on the neural network (parameters, update_parameters and zero_gradients) can more naturally be included as methods in a NeuralNetwork class. Make such a class and modify the code to use it. "
   ]
  },
  {
   "cell_type": "code",
   "execution_count": 36,
   "metadata": {
    "id": "Dqfnor1ouMLq"
   },
   "outputs": [],
   "source": [
    "# just add some code"
   ]
  }
 ],
 "metadata": {
  "anaconda-cloud": {},
  "colab": {
   "name": "2.1-FNN-AutoDif-Nanograd.ipynb",
   "provenance": []
  },
  "kernelspec": {
   "display_name": "Python 3",
   "language": "python",
   "name": "python3"
  },
  "language_info": {
   "codemirror_mode": {
    "name": "ipython",
    "version": 3
   },
   "file_extension": ".py",
   "mimetype": "text/x-python",
   "name": "python",
   "nbconvert_exporter": "python",
   "pygments_lexer": "ipython3",
   "version": "3.8.8"
  }
 },
 "nbformat": 4,
 "nbformat_minor": 1
}
